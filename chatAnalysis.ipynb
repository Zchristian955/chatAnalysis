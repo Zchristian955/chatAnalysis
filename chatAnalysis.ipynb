{
  "nbformat": 4,
  "nbformat_minor": 0,
  "metadata": {
    "colab": {
      "name": "chatAnalysis.ipynb",
      "provenance": [],
      "collapsed_sections": [],
      "authorship_tag": "ABX9TyOg8iunaXCJov9qSuZcU2Vl",
      "include_colab_link": true
    },
    "kernelspec": {
      "name": "python3",
      "display_name": "Python 3"
    },
    "language_info": {
      "name": "python"
    }
  },
  "cells": [
    {
      "cell_type": "markdown",
      "metadata": {
        "id": "view-in-github",
        "colab_type": "text"
      },
      "source": [
        "<a href=\"https://colab.research.google.com/github/deadex-ng/chatAnalysis/blob/main/chatAnalysis.ipynb\" target=\"_parent\"><img src=\"https://colab.research.google.com/assets/colab-badge.svg\" alt=\"Open In Colab\"/></a>"
      ]
    },
    {
      "cell_type": "code",
      "metadata": {
        "colab": {
          "base_uri": "https://localhost:8080/"
        },
        "id": "6jdVP1pQ4JP6",
        "outputId": "707011a6-9447-4ef4-8f35-9d3a20d3d8a4"
      },
      "source": [
        "from google.colab import drive\n",
        "drive.mount('/content/drive')"
      ],
      "execution_count": 19,
      "outputs": [
        {
          "output_type": "stream",
          "text": [
            "Drive already mounted at /content/drive; to attempt to forcibly remount, call drive.mount(\"/content/drive\", force_remount=True).\n"
          ],
          "name": "stdout"
        }
      ]
    },
    {
      "cell_type": "code",
      "metadata": {
        "colab": {
          "base_uri": "https://localhost:8080/"
        },
        "id": "P896dcqiAPGw",
        "outputId": "af73b07c-da99-476e-a1e9-281bbf3fc94b"
      },
      "source": [
        "!ls \"/content/drive/My Drive/chatAnalysis\""
      ],
      "execution_count": 20,
      "outputs": [
        {
          "output_type": "stream",
          "text": [
            " chatAnalysis.ipynb  'WhatsApp Chat with Mutu umodz Susenza Denga🤓.txt'\n"
          ],
          "name": "stdout"
        }
      ]
    },
    {
      "cell_type": "code",
      "metadata": {
        "colab": {
          "base_uri": "https://localhost:8080/"
        },
        "id": "U79gp72_YTW6",
        "outputId": "43616253-ea70-4f0c-ce64-d3dbdb740d37"
      },
      "source": [
        "!pip install emoji"
      ],
      "execution_count": 21,
      "outputs": [
        {
          "output_type": "stream",
          "text": [
            "Requirement already satisfied: emoji in /usr/local/lib/python3.7/dist-packages (1.4.2)\n"
          ],
          "name": "stdout"
        }
      ]
    },
    {
      "cell_type": "code",
      "metadata": {
        "id": "uA6AtFlPV_ij"
      },
      "source": [
        "import os \n",
        "import regex as re\n",
        "import pandas as pd\n",
        "import numpy as np\n",
        "import emoji"
      ],
      "execution_count": 22,
      "outputs": []
    },
    {
      "cell_type": "code",
      "metadata": {
        "id": "HYvM8RxNWGZg"
      },
      "source": [
        "def starts_with_date_time(s):\n",
        "  pattern = '^([0-9]+)(\\/)([0-9]+)(\\/)([0-9]+), ([0-9]+):([0-9]+)[ ]?(AM|PM|am|pm)? -'\n",
        "  result = re.match(pattern, s)\n",
        "  if result :\n",
        "    return True \n",
        "  return False "
      ],
      "execution_count": 23,
      "outputs": []
    },
    {
      "cell_type": "code",
      "metadata": {
        "id": "_GZGNy5wX6uu"
      },
      "source": [
        "def find_author(s):\n",
        "  s=s.split(\":\")\n",
        "  if len(s)==2:\n",
        "    return True\n",
        "  else:\n",
        "    return False"
      ],
      "execution_count": 24,
      "outputs": []
    },
    {
      "cell_type": "code",
      "metadata": {
        "id": "GqgqxOofX3Wy"
      },
      "source": [
        "def get_data_point(line):   \n",
        "    splitLine = line.split(' - ') \n",
        "    dateTime = splitLine[0]\n",
        "    date, time = dateTime.split(', ') \n",
        "    message = ' '.join(splitLine[1:])\n",
        "    if find_author(message): \n",
        "        splitMessage = message.split(': ') \n",
        "        author = splitMessage[0] \n",
        "        message = ' '.join(splitMessage[1:])\n",
        "    else:\n",
        "        author = None\n",
        "    return date, time, author, message"
      ],
      "execution_count": 25,
      "outputs": []
    },
    {
      "cell_type": "code",
      "metadata": {
        "id": "A2KK-2C9APQz"
      },
      "source": [
        "conversation = '/content/drive/My Drive/chatAnalysis/WhatsApp Chat with Mutu umodz Susenza Denga🤓.txt'"
      ],
      "execution_count": 26,
      "outputs": []
    },
    {
      "cell_type": "code",
      "metadata": {
        "id": "_4pTBHu_5QOA"
      },
      "source": [
        "with open(conversation,encoding=\"utf-8\") as fp:\n",
        "  fp.readline()\n",
        "  messageBuffer = []\n",
        "  parsedData =[]\n",
        "  date, time, author = None, None, None\n",
        "  while True:\n",
        "    line = fp.readline()\n",
        "    if not line:\n",
        "      break\n",
        "    line = line.strip()\n",
        "    if starts_with_date_time(line):\n",
        "      if len(messageBuffer) > 0:\n",
        "        parsedData.append([date, time, author, ' '.join(messageBuffer)])\n",
        "      messageBuffer.clear()\n",
        "      date, time, author, message = get_data_point(line)\n",
        "      messageBuffer.append(message)\n",
        "    else:\n",
        "      messageBuffer.append(line)\n",
        "\n"
      ],
      "execution_count": 27,
      "outputs": []
    },
    {
      "cell_type": "code",
      "metadata": {
        "colab": {
          "base_uri": "https://localhost:8080/",
          "height": 669
        },
        "id": "KhfkJvCASM7N",
        "outputId": "f01f5bea-fcde-45d1-c5d1-00c34276204d"
      },
      "source": [
        "df = pd.DataFrame(parsedData, columns=['Date', 'Time', 'Author', 'Message']) # Initialising a pandas Dataframe.\n",
        "df[\"Date\"] = pd.to_datetime(df[\"Date\"])\n",
        "df.tail(20)"
      ],
      "execution_count": 32,
      "outputs": [
        {
          "output_type": "execute_result",
          "data": {
            "text/html": [
              "<div>\n",
              "<style scoped>\n",
              "    .dataframe tbody tr th:only-of-type {\n",
              "        vertical-align: middle;\n",
              "    }\n",
              "\n",
              "    .dataframe tbody tr th {\n",
              "        vertical-align: top;\n",
              "    }\n",
              "\n",
              "    .dataframe thead th {\n",
              "        text-align: right;\n",
              "    }\n",
              "</style>\n",
              "<table border=\"1\" class=\"dataframe\">\n",
              "  <thead>\n",
              "    <tr style=\"text-align: right;\">\n",
              "      <th></th>\n",
              "      <th>Date</th>\n",
              "      <th>Time</th>\n",
              "      <th>Author</th>\n",
              "      <th>Message</th>\n",
              "    </tr>\n",
              "  </thead>\n",
              "  <tbody>\n",
              "    <tr>\n",
              "      <th>215</th>\n",
              "      <td>2021-08-04</td>\n",
              "      <td>8:06 PM</td>\n",
              "      <td>Khumbo Chilamwa</td>\n",
              "      <td>&lt;Media omitted&gt;</td>\n",
              "    </tr>\n",
              "    <tr>\n",
              "      <th>216</th>\n",
              "      <td>2021-08-04</td>\n",
              "      <td>8:07 PM</td>\n",
              "      <td>Khumbo Chilamwa</td>\n",
              "      <td>Good evening maluz that's the report on my vis...</td>\n",
              "    </tr>\n",
              "    <tr>\n",
              "      <th>217</th>\n",
              "      <td>2021-08-04</td>\n",
              "      <td>8:10 PM</td>\n",
              "      <td>Chikumbutso Geson</td>\n",
              "      <td>Thanks alot For the great work</td>\n",
              "    </tr>\n",
              "    <tr>\n",
              "      <th>218</th>\n",
              "      <td>2021-08-04</td>\n",
              "      <td>8:10 PM</td>\n",
              "      <td>Aston Mukiwa</td>\n",
              "      <td>🤓👏</td>\n",
              "    </tr>\n",
              "    <tr>\n",
              "      <th>219</th>\n",
              "      <td>2021-08-04</td>\n",
              "      <td>8:14 PM</td>\n",
              "      <td>Khumbo Chilamwa</td>\n",
              "      <td>Anytime maluz</td>\n",
              "    </tr>\n",
              "    <tr>\n",
              "      <th>220</th>\n",
              "      <td>2021-08-04</td>\n",
              "      <td>8:16 PM</td>\n",
              "      <td>Aston Mukiwa</td>\n",
              "      <td>Registration fees akweza pompano eti?</td>\n",
              "    </tr>\n",
              "    <tr>\n",
              "      <th>221</th>\n",
              "      <td>2021-08-04</td>\n",
              "      <td>8:16 PM</td>\n",
              "      <td>Khumbo Chilamwa</td>\n",
              "      <td>Eya</td>\n",
              "    </tr>\n",
              "    <tr>\n",
              "      <th>222</th>\n",
              "      <td>2021-08-04</td>\n",
              "      <td>8:16 PM</td>\n",
              "      <td>Khumbo Chilamwa</td>\n",
              "      <td>Coz ndimamva kuti MRA yalowererapo</td>\n",
              "    </tr>\n",
              "    <tr>\n",
              "      <th>223</th>\n",
              "      <td>2021-08-04</td>\n",
              "      <td>8:17 PM</td>\n",
              "      <td>Aston Mukiwa</td>\n",
              "      <td>How ?</td>\n",
              "    </tr>\n",
              "    <tr>\n",
              "      <th>224</th>\n",
              "      <td>2021-08-04</td>\n",
              "      <td>8:20 PM</td>\n",
              "      <td>Khumbo Chilamwa</td>\n",
              "      <td>Of course I didn't get this info from there, b...</td>\n",
              "    </tr>\n",
              "    <tr>\n",
              "      <th>225</th>\n",
              "      <td>2021-08-04</td>\n",
              "      <td>8:21 PM</td>\n",
              "      <td>Khumbo Chilamwa</td>\n",
              "      <td>I was asking him about za reg fees</td>\n",
              "    </tr>\n",
              "    <tr>\n",
              "      <th>226</th>\n",
              "      <td>2021-08-04</td>\n",
              "      <td>8:22 PM</td>\n",
              "      <td>Aston Mukiwa</td>\n",
              "      <td>Ok .?</td>\n",
              "    </tr>\n",
              "    <tr>\n",
              "      <th>227</th>\n",
              "      <td>2021-08-04</td>\n",
              "      <td>8:22 PM</td>\n",
              "      <td>Aston Mukiwa</td>\n",
              "      <td>So the MRA thing was mentioned there ?</td>\n",
              "    </tr>\n",
              "    <tr>\n",
              "      <th>228</th>\n",
              "      <td>2021-08-04</td>\n",
              "      <td>8:22 PM</td>\n",
              "      <td>Khumbo Chilamwa</td>\n",
              "      <td>Eya kkkk</td>\n",
              "    </tr>\n",
              "    <tr>\n",
              "      <th>229</th>\n",
              "      <td>2021-08-04</td>\n",
              "      <td>8:22 PM</td>\n",
              "      <td>Aston Mukiwa</td>\n",
              "      <td>Ts okay koma..nde ofunika tikbilane kut how we...</td>\n",
              "    </tr>\n",
              "    <tr>\n",
              "      <th>230</th>\n",
              "      <td>2021-08-04</td>\n",
              "      <td>8:23 PM</td>\n",
              "      <td>Aston Mukiwa</td>\n",
              "      <td>Plus the laweyer thing.</td>\n",
              "    </tr>\n",
              "    <tr>\n",
              "      <th>231</th>\n",
              "      <td>2021-08-04</td>\n",
              "      <td>8:23 PM</td>\n",
              "      <td>Khumbo Chilamwa</td>\n",
              "      <td>We need to have another meeting where everyone...</td>\n",
              "    </tr>\n",
              "    <tr>\n",
              "      <th>232</th>\n",
              "      <td>2021-08-04</td>\n",
              "      <td>8:24 PM</td>\n",
              "      <td>Khumbo Chilamwa</td>\n",
              "      <td>Sure</td>\n",
              "    </tr>\n",
              "    <tr>\n",
              "      <th>233</th>\n",
              "      <td>2021-08-04</td>\n",
              "      <td>8:24 PM</td>\n",
              "      <td>Aston Mukiwa</td>\n",
              "      <td>Okok..cool</td>\n",
              "    </tr>\n",
              "    <tr>\n",
              "      <th>234</th>\n",
              "      <td>2021-08-04</td>\n",
              "      <td>8:25 PM</td>\n",
              "      <td>Khumbo Chilamwa</td>\n",
              "      <td>Sure maluz</td>\n",
              "    </tr>\n",
              "  </tbody>\n",
              "</table>\n",
              "</div>"
            ],
            "text/plain": [
              "          Date  ...                                            Message\n",
              "215 2021-08-04  ...                                    <Media omitted>\n",
              "216 2021-08-04  ...  Good evening maluz that's the report on my vis...\n",
              "217 2021-08-04  ...                     Thanks alot For the great work\n",
              "218 2021-08-04  ...                                                 🤓👏\n",
              "219 2021-08-04  ...                                      Anytime maluz\n",
              "220 2021-08-04  ...              Registration fees akweza pompano eti?\n",
              "221 2021-08-04  ...                                                Eya\n",
              "222 2021-08-04  ...                 Coz ndimamva kuti MRA yalowererapo\n",
              "223 2021-08-04  ...                                              How ?\n",
              "224 2021-08-04  ...  Of course I didn't get this info from there, b...\n",
              "225 2021-08-04  ...                 I was asking him about za reg fees\n",
              "226 2021-08-04  ...                                              Ok .?\n",
              "227 2021-08-04  ...             So the MRA thing was mentioned there ?\n",
              "228 2021-08-04  ...                                           Eya kkkk\n",
              "229 2021-08-04  ...  Ts okay koma..nde ofunika tikbilane kut how we...\n",
              "230 2021-08-04  ...                            Plus the laweyer thing.\n",
              "231 2021-08-04  ...  We need to have another meeting where everyone...\n",
              "232 2021-08-04  ...                                               Sure\n",
              "233 2021-08-04  ...                                         Okok..cool\n",
              "234 2021-08-04  ...                                         Sure maluz\n",
              "\n",
              "[20 rows x 4 columns]"
            ]
          },
          "metadata": {
            "tags": []
          },
          "execution_count": 32
        }
      ]
    }
  ]
}