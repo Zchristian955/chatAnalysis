{
  "nbformat": 4,
  "nbformat_minor": 0,
  "metadata": {
    "colab": {
      "name": "chatAnalysis.ipynb",
      "provenance": [],
      "collapsed_sections": [],
      "authorship_tag": "ABX9TyP2yRzl7FpzvnB6XB3idQAC",
      "include_colab_link": true
    },
    "kernelspec": {
      "name": "python3",
      "display_name": "Python 3"
    },
    "language_info": {
      "name": "python"
    }
  },
  "cells": [
    {
      "cell_type": "markdown",
      "metadata": {
        "id": "view-in-github",
        "colab_type": "text"
      },
      "source": [
        "<a href=\"https://colab.research.google.com/github/deadex-ng/chatAnalysis/blob/main/chatAnalysis.ipynb\" target=\"_parent\"><img src=\"https://colab.research.google.com/assets/colab-badge.svg\" alt=\"Open In Colab\"/></a>"
      ]
    },
    {
      "cell_type": "code",
      "metadata": {
        "colab": {
          "base_uri": "https://localhost:8080/"
        },
        "id": "6jdVP1pQ4JP6",
        "outputId": "5db4cea2-9c58-45ba-d03a-24220fd9a572"
      },
      "source": [
        "from google.colab import drive\n",
        "drive.mount('/content/drive')"
      ],
      "execution_count": 1,
      "outputs": [
        {
          "output_type": "stream",
          "text": [
            "Mounted at /content/drive\n"
          ],
          "name": "stdout"
        }
      ]
    },
    {
      "cell_type": "code",
      "metadata": {
        "colab": {
          "base_uri": "https://localhost:8080/"
        },
        "id": "P896dcqiAPGw",
        "outputId": "a5d168f2-e575-4fbf-fac0-b463fa9d9a8c"
      },
      "source": [
        "!ls \"/content/drive/My Drive/chatAnalysis\""
      ],
      "execution_count": 2,
      "outputs": [
        {
          "output_type": "stream",
          "text": [
            " chatAnalysis.ipynb  'WhatsApp Chat with Mutu umodz Susenza Denga🤓.txt'\n"
          ],
          "name": "stdout"
        }
      ]
    },
    {
      "cell_type": "code",
      "metadata": {
        "colab": {
          "base_uri": "https://localhost:8080/"
        },
        "id": "U79gp72_YTW6",
        "outputId": "bb7c4097-0d4e-4f3a-8de9-2971100f44f4"
      },
      "source": [
        "!pip install emoji"
      ],
      "execution_count": 3,
      "outputs": [
        {
          "output_type": "stream",
          "text": [
            "Collecting emoji\n",
            "  Downloading emoji-1.4.2.tar.gz (184 kB)\n",
            "\u001b[?25l\r\u001b[K     |█▊                              | 10 kB 24.3 MB/s eta 0:00:01\r\u001b[K     |███▌                            | 20 kB 9.2 MB/s eta 0:00:01\r\u001b[K     |█████▎                          | 30 kB 8.1 MB/s eta 0:00:01\r\u001b[K     |███████                         | 40 kB 7.6 MB/s eta 0:00:01\r\u001b[K     |████████▉                       | 51 kB 4.1 MB/s eta 0:00:01\r\u001b[K     |██████████▋                     | 61 kB 4.4 MB/s eta 0:00:01\r\u001b[K     |████████████▍                   | 71 kB 4.3 MB/s eta 0:00:01\r\u001b[K     |██████████████▏                 | 81 kB 4.9 MB/s eta 0:00:01\r\u001b[K     |████████████████                | 92 kB 5.0 MB/s eta 0:00:01\r\u001b[K     |█████████████████▊              | 102 kB 4.1 MB/s eta 0:00:01\r\u001b[K     |███████████████████▌            | 112 kB 4.1 MB/s eta 0:00:01\r\u001b[K     |█████████████████████▎          | 122 kB 4.1 MB/s eta 0:00:01\r\u001b[K     |███████████████████████         | 133 kB 4.1 MB/s eta 0:00:01\r\u001b[K     |████████████████████████▉       | 143 kB 4.1 MB/s eta 0:00:01\r\u001b[K     |██████████████████████████▋     | 153 kB 4.1 MB/s eta 0:00:01\r\u001b[K     |████████████████████████████▍   | 163 kB 4.1 MB/s eta 0:00:01\r\u001b[K     |██████████████████████████████▏ | 174 kB 4.1 MB/s eta 0:00:01\r\u001b[K     |███████████████████████████████▉| 184 kB 4.1 MB/s eta 0:00:01\r\u001b[K     |████████████████████████████████| 184 kB 4.1 MB/s \n",
            "\u001b[?25hBuilding wheels for collected packages: emoji\n",
            "  Building wheel for emoji (setup.py) ... \u001b[?25l\u001b[?25hdone\n",
            "  Created wheel for emoji: filename=emoji-1.4.2-py3-none-any.whl size=186469 sha256=d8e3f3c538809f019ad6e7bc95e8d9634bdad7b231596985193b2c1e86bc55cc\n",
            "  Stored in directory: /root/.cache/pip/wheels/e4/61/e7/2fc1ac8f306848fc66c6c013ab511f0a39ef4b1825b11363b2\n",
            "Successfully built emoji\n",
            "Installing collected packages: emoji\n",
            "Successfully installed emoji-1.4.2\n"
          ],
          "name": "stdout"
        }
      ]
    },
    {
      "cell_type": "code",
      "metadata": {
        "id": "uA6AtFlPV_ij"
      },
      "source": [
        "import os \n",
        "import regex as re\n",
        "import pandas as pd\n",
        "import numpy as np\n",
        "import emoji"
      ],
      "execution_count": 4,
      "outputs": []
    },
    {
      "cell_type": "code",
      "metadata": {
        "id": "HYvM8RxNWGZg"
      },
      "source": [
        "def starts_with_date_time(s):\n",
        "  pattern = '^([0-9]+)(\\/)([0-9]+)(\\/)([0-9]+), ([0-9]+):([0-9]+)[ ]?(AM|PM|am|pm)? -'\n",
        "  result = re.match(pattern, s)\n",
        "  if result :\n",
        "    return True \n",
        "  return False "
      ],
      "execution_count": 5,
      "outputs": []
    },
    {
      "cell_type": "code",
      "metadata": {
        "id": "_GZGNy5wX6uu"
      },
      "source": [
        "def find_author(s):\n",
        "  s=s.split(\":\")\n",
        "  if len(s)==2:\n",
        "    return True\n",
        "  else:\n",
        "    return False"
      ],
      "execution_count": 6,
      "outputs": []
    },
    {
      "cell_type": "code",
      "metadata": {
        "id": "GqgqxOofX3Wy"
      },
      "source": [
        "def get_data_point(line):   \n",
        "    splitLine = line.split(' - ') \n",
        "    dateTime = splitLine[0]\n",
        "    date, time = dateTime.split(', ') \n",
        "    message = ' '.join(splitLine[1:])\n",
        "    if find_author(message): \n",
        "        splitMessage = message.split(': ') \n",
        "        author = splitMessage[0] \n",
        "        message = ' '.join(splitMessage[1:])\n",
        "    else:\n",
        "        author = None\n",
        "    return date, time, author, message"
      ],
      "execution_count": 7,
      "outputs": []
    },
    {
      "cell_type": "code",
      "metadata": {
        "id": "mhRr-d_rzoyE"
      },
      "source": [
        "def split_count(text):\n",
        "  data = re.findall(r'\\X', text)"
      ],
      "execution_count": null,
      "outputs": []
    },
    {
      "cell_type": "code",
      "metadata": {
        "id": "A2KK-2C9APQz"
      },
      "source": [
        "conversation = '/content/drive/My Drive/chatAnalysis/WhatsApp Chat with Mutu umodz Susenza Denga🤓.txt'"
      ],
      "execution_count": 8,
      "outputs": []
    },
    {
      "cell_type": "code",
      "metadata": {
        "id": "_4pTBHu_5QOA"
      },
      "source": [
        "with open(conversation,encoding=\"utf-8\") as fp:\n",
        "  fp.readline()\n",
        "  messageBuffer = []\n",
        "  parsedData =[]\n",
        "  date, time, author = None, None, None\n",
        "  while True:\n",
        "    line = fp.readline()\n",
        "    if not line:\n",
        "      break\n",
        "    line = line.strip()\n",
        "    if starts_with_date_time(line):\n",
        "      if len(messageBuffer) > 0:\n",
        "        parsedData.append([date, time, author, ' '.join(messageBuffer)])\n",
        "      messageBuffer.clear()\n",
        "      date, time, author, message = get_data_point(line)\n",
        "      messageBuffer.append(message)\n",
        "    else:\n",
        "      messageBuffer.append(line)\n",
        "\n"
      ],
      "execution_count": 9,
      "outputs": []
    },
    {
      "cell_type": "code",
      "metadata": {
        "colab": {
          "base_uri": "https://localhost:8080/",
          "height": 669
        },
        "id": "KhfkJvCASM7N",
        "outputId": "902f9c9f-c255-4829-9fa4-b72eadeefe9c"
      },
      "source": [
        "df = pd.DataFrame(parsedData, columns=['Date', 'Time', 'Author', 'Message']) # Initialising a pandas Dataframe.\n",
        "df[\"Date\"] = pd.to_datetime(df[\"Date\"])\n",
        "df.tail(20)"
      ],
      "execution_count": 10,
      "outputs": [
        {
          "output_type": "execute_result",
          "data": {
            "text/html": [
              "<div>\n",
              "<style scoped>\n",
              "    .dataframe tbody tr th:only-of-type {\n",
              "        vertical-align: middle;\n",
              "    }\n",
              "\n",
              "    .dataframe tbody tr th {\n",
              "        vertical-align: top;\n",
              "    }\n",
              "\n",
              "    .dataframe thead th {\n",
              "        text-align: right;\n",
              "    }\n",
              "</style>\n",
              "<table border=\"1\" class=\"dataframe\">\n",
              "  <thead>\n",
              "    <tr style=\"text-align: right;\">\n",
              "      <th></th>\n",
              "      <th>Date</th>\n",
              "      <th>Time</th>\n",
              "      <th>Author</th>\n",
              "      <th>Message</th>\n",
              "    </tr>\n",
              "  </thead>\n",
              "  <tbody>\n",
              "    <tr>\n",
              "      <th>215</th>\n",
              "      <td>2021-08-04</td>\n",
              "      <td>8:06 PM</td>\n",
              "      <td>Khumbo Chilamwa</td>\n",
              "      <td>&lt;Media omitted&gt;</td>\n",
              "    </tr>\n",
              "    <tr>\n",
              "      <th>216</th>\n",
              "      <td>2021-08-04</td>\n",
              "      <td>8:07 PM</td>\n",
              "      <td>Khumbo Chilamwa</td>\n",
              "      <td>Good evening maluz that's the report on my vis...</td>\n",
              "    </tr>\n",
              "    <tr>\n",
              "      <th>217</th>\n",
              "      <td>2021-08-04</td>\n",
              "      <td>8:10 PM</td>\n",
              "      <td>Chikumbutso Geson</td>\n",
              "      <td>Thanks alot For the great work</td>\n",
              "    </tr>\n",
              "    <tr>\n",
              "      <th>218</th>\n",
              "      <td>2021-08-04</td>\n",
              "      <td>8:10 PM</td>\n",
              "      <td>Aston Mukiwa</td>\n",
              "      <td>🤓👏</td>\n",
              "    </tr>\n",
              "    <tr>\n",
              "      <th>219</th>\n",
              "      <td>2021-08-04</td>\n",
              "      <td>8:14 PM</td>\n",
              "      <td>Khumbo Chilamwa</td>\n",
              "      <td>Anytime maluz</td>\n",
              "    </tr>\n",
              "    <tr>\n",
              "      <th>220</th>\n",
              "      <td>2021-08-04</td>\n",
              "      <td>8:16 PM</td>\n",
              "      <td>Aston Mukiwa</td>\n",
              "      <td>Registration fees akweza pompano eti?</td>\n",
              "    </tr>\n",
              "    <tr>\n",
              "      <th>221</th>\n",
              "      <td>2021-08-04</td>\n",
              "      <td>8:16 PM</td>\n",
              "      <td>Khumbo Chilamwa</td>\n",
              "      <td>Eya</td>\n",
              "    </tr>\n",
              "    <tr>\n",
              "      <th>222</th>\n",
              "      <td>2021-08-04</td>\n",
              "      <td>8:16 PM</td>\n",
              "      <td>Khumbo Chilamwa</td>\n",
              "      <td>Coz ndimamva kuti MRA yalowererapo</td>\n",
              "    </tr>\n",
              "    <tr>\n",
              "      <th>223</th>\n",
              "      <td>2021-08-04</td>\n",
              "      <td>8:17 PM</td>\n",
              "      <td>Aston Mukiwa</td>\n",
              "      <td>How ?</td>\n",
              "    </tr>\n",
              "    <tr>\n",
              "      <th>224</th>\n",
              "      <td>2021-08-04</td>\n",
              "      <td>8:20 PM</td>\n",
              "      <td>Khumbo Chilamwa</td>\n",
              "      <td>Of course I didn't get this info from there, b...</td>\n",
              "    </tr>\n",
              "    <tr>\n",
              "      <th>225</th>\n",
              "      <td>2021-08-04</td>\n",
              "      <td>8:21 PM</td>\n",
              "      <td>Khumbo Chilamwa</td>\n",
              "      <td>I was asking him about za reg fees</td>\n",
              "    </tr>\n",
              "    <tr>\n",
              "      <th>226</th>\n",
              "      <td>2021-08-04</td>\n",
              "      <td>8:22 PM</td>\n",
              "      <td>Aston Mukiwa</td>\n",
              "      <td>Ok .?</td>\n",
              "    </tr>\n",
              "    <tr>\n",
              "      <th>227</th>\n",
              "      <td>2021-08-04</td>\n",
              "      <td>8:22 PM</td>\n",
              "      <td>Aston Mukiwa</td>\n",
              "      <td>So the MRA thing was mentioned there ?</td>\n",
              "    </tr>\n",
              "    <tr>\n",
              "      <th>228</th>\n",
              "      <td>2021-08-04</td>\n",
              "      <td>8:22 PM</td>\n",
              "      <td>Khumbo Chilamwa</td>\n",
              "      <td>Eya kkkk</td>\n",
              "    </tr>\n",
              "    <tr>\n",
              "      <th>229</th>\n",
              "      <td>2021-08-04</td>\n",
              "      <td>8:22 PM</td>\n",
              "      <td>Aston Mukiwa</td>\n",
              "      <td>Ts okay koma..nde ofunika tikbilane kut how we...</td>\n",
              "    </tr>\n",
              "    <tr>\n",
              "      <th>230</th>\n",
              "      <td>2021-08-04</td>\n",
              "      <td>8:23 PM</td>\n",
              "      <td>Aston Mukiwa</td>\n",
              "      <td>Plus the laweyer thing.</td>\n",
              "    </tr>\n",
              "    <tr>\n",
              "      <th>231</th>\n",
              "      <td>2021-08-04</td>\n",
              "      <td>8:23 PM</td>\n",
              "      <td>Khumbo Chilamwa</td>\n",
              "      <td>We need to have another meeting where everyone...</td>\n",
              "    </tr>\n",
              "    <tr>\n",
              "      <th>232</th>\n",
              "      <td>2021-08-04</td>\n",
              "      <td>8:24 PM</td>\n",
              "      <td>Khumbo Chilamwa</td>\n",
              "      <td>Sure</td>\n",
              "    </tr>\n",
              "    <tr>\n",
              "      <th>233</th>\n",
              "      <td>2021-08-04</td>\n",
              "      <td>8:24 PM</td>\n",
              "      <td>Aston Mukiwa</td>\n",
              "      <td>Okok..cool</td>\n",
              "    </tr>\n",
              "    <tr>\n",
              "      <th>234</th>\n",
              "      <td>2021-08-04</td>\n",
              "      <td>8:25 PM</td>\n",
              "      <td>Khumbo Chilamwa</td>\n",
              "      <td>Sure maluz</td>\n",
              "    </tr>\n",
              "  </tbody>\n",
              "</table>\n",
              "</div>"
            ],
            "text/plain": [
              "          Date  ...                                            Message\n",
              "215 2021-08-04  ...                                    <Media omitted>\n",
              "216 2021-08-04  ...  Good evening maluz that's the report on my vis...\n",
              "217 2021-08-04  ...                     Thanks alot For the great work\n",
              "218 2021-08-04  ...                                                 🤓👏\n",
              "219 2021-08-04  ...                                      Anytime maluz\n",
              "220 2021-08-04  ...              Registration fees akweza pompano eti?\n",
              "221 2021-08-04  ...                                                Eya\n",
              "222 2021-08-04  ...                 Coz ndimamva kuti MRA yalowererapo\n",
              "223 2021-08-04  ...                                              How ?\n",
              "224 2021-08-04  ...  Of course I didn't get this info from there, b...\n",
              "225 2021-08-04  ...                 I was asking him about za reg fees\n",
              "226 2021-08-04  ...                                              Ok .?\n",
              "227 2021-08-04  ...             So the MRA thing was mentioned there ?\n",
              "228 2021-08-04  ...                                           Eya kkkk\n",
              "229 2021-08-04  ...  Ts okay koma..nde ofunika tikbilane kut how we...\n",
              "230 2021-08-04  ...                            Plus the laweyer thing.\n",
              "231 2021-08-04  ...  We need to have another meeting where everyone...\n",
              "232 2021-08-04  ...                                               Sure\n",
              "233 2021-08-04  ...                                         Okok..cool\n",
              "234 2021-08-04  ...                                         Sure maluz\n",
              "\n",
              "[20 rows x 4 columns]"
            ]
          },
          "metadata": {
            "tags": []
          },
          "execution_count": 10
        }
      ]
    },
    {
      "cell_type": "code",
      "metadata": {
        "id": "RMtpIZu1x_mo",
        "outputId": "9218c696-d77a-4335-f7e8-46e81474daaf",
        "colab": {
          "base_uri": "https://localhost:8080/"
        }
      },
      "source": [
        "#get all authors\n",
        "df.Author.unique()"
      ],
      "execution_count": 11,
      "outputs": [
        {
          "output_type": "execute_result",
          "data": {
            "text/plain": [
              "array([None, 'Chikumbutso Geson', 'Aston Mukiwa', 'Zombe',\n",
              "       'Khumbo Chilamwa', '+265 881 29 06 45'], dtype=object)"
            ]
          },
          "metadata": {
            "tags": []
          },
          "execution_count": 11
        }
      ]
    },
    {
      "cell_type": "code",
      "metadata": {
        "id": "M6z80vEJyL2x",
        "outputId": "394db1c9-d754-4cf1-eb75-3c034c078659",
        "colab": {
          "base_uri": "https://localhost:8080/"
        }
      },
      "source": [
        "media_messages = df[df['Message'] == '<Media omitted>'].shape[0]\n",
        "print(media_messages)"
      ],
      "execution_count": 14,
      "outputs": [
        {
          "output_type": "stream",
          "text": [
            "9\n"
          ],
          "name": "stdout"
        }
      ]
    },
    {
      "cell_type": "code",
      "metadata": {
        "id": "hTLN6MTQzlSF"
      },
      "source": [
        ""
      ],
      "execution_count": null,
      "outputs": []
    }
  ]
}